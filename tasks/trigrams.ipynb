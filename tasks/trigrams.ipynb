{
 "cells": [
  {
   "cell_type": "markdown",
   "metadata": {},
   "source": [
    "# Task One\n",
    "https://www.gutenberg.org/\n",
    "\n",
    "Get 5 Plain Text UTF-8 books\n",
    "\n",
    "Use them to create a model of the English language as follows. \n",
    "Remove any preamble and postamble. (Introduction/Outroduction)\n",
    "Remove all characters except for (ASCII) letters (uppercase and lowercase), full stops, and spaces.\n",
    "Make all letters uppercase.\n",
    "All according to: https://github.com/ianmcloughlin/2425_emerging_technologies?tab=readme-ov-file#task-1-third-order-letter-approximation-model"
   ]
  },
  {
   "cell_type": "code",
   "execution_count": null,
   "metadata": {},
   "outputs": [],
   "source": []
  }
 ],
 "metadata": {
  "language_info": {
   "name": "python"
  }
 },
 "nbformat": 4,
 "nbformat_minor": 2
}
