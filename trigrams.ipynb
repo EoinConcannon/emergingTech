{
 "cells": [
  {
   "cell_type": "markdown",
   "metadata": {},
   "source": [
    "# Task One\n",
    "https://www.gutenberg.org/\n",
    "\n",
    "Get 5 Plain Text UTF-8 books\n",
    "\n",
    "Use them to create a model of the English language as follows. \n",
    "Remove any preamble and postamble. (Introduction/Outroduction)\n",
    "Remove all characters except for (ASCII) letters (uppercase and lowercase), full stops, and spaces.\n",
    "Make all letters uppercase.\n",
    "All according to: https://github.com/ianmcloughlin/2425_emerging_technologies?tab=readme-ov-file#task-1-third-order-letter-approximation-model"
   ]
  },
  {
   "cell_type": "code",
   "execution_count": 51,
   "metadata": {},
   "outputs": [],
   "source": [
    "#imports\n",
    "import collections"
   ]
  },
  {
   "cell_type": "code",
   "execution_count": 52,
   "metadata": {},
   "outputs": [],
   "source": [
    "with open('books/Alice.txt', 'r') as file:\n",
    "    text = file.read()\n",
    "    #convert to uppercase\n",
    "    text = text.upper()\n",
    "    #cut out intro/outro\n",
    "    mainText = text.split('***') #[2]\n",
    "    #characters that will be read\n",
    "    values = 'ABCDEFGHIJKLMNOPQRSTUVWXYZ. '\n",
    "    # The following code is borrowed from \"Ian McCloughlin\" at \"https://github.com/ianmcloughlin/2425_emerging_technologies/blob/main/02_language_models.ipynb\" and refactored\n",
    "    # Remove unwanted characters.\n",
    "    cleanText = ''.join(c for c in mainText[2] if c in values)\n",
    "\n",
    "\n"
   ]
  }
 ],
 "metadata": {
  "kernelspec": {
   "display_name": "Python 3",
   "language": "python",
   "name": "python3"
  },
  "language_info": {
   "codemirror_mode": {
    "name": "ipython",
    "version": 3
   },
   "file_extension": ".py",
   "mimetype": "text/x-python",
   "name": "python",
   "nbconvert_exporter": "python",
   "pygments_lexer": "ipython3",
   "version": "3.12.1"
  }
 },
 "nbformat": 4,
 "nbformat_minor": 2
}
